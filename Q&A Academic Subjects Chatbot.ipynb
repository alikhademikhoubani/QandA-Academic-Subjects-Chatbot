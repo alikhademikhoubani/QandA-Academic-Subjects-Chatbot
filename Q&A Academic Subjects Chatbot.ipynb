{
 "cells": [
  {
   "cell_type": "code",
   "execution_count": 122,
   "id": "ea765312-909e-4b48-835f-4a0afa205367",
   "metadata": {},
   "outputs": [],
   "source": [
    "import json\n",
    "import pandas as pd\n",
    "from tensorflow.keras.preprocessing.text import Tokenizer\n",
    "from keras.preprocessing.sequence import pad_sequences\n",
    "import numpy as np\n",
    "from keras.models import Sequential\n",
    "from keras.layers import Embedding, LSTM, Dense, Bidirectional, Conv1D, MaxPooling1D, Input\n",
    "from keras.initializers import Constant\n",
    "from keras.callbacks import EarlyStopping\n",
    "import matplotlib.pyplot as plt\n",
    "import seaborn as sns\n",
    "sns.set()"
   ]
  },
  {
   "cell_type": "code",
   "execution_count": 56,
   "id": "f7d364ee-0004-4ff1-acce-1bb97b9233b6",
   "metadata": {},
   "outputs": [],
   "source": [
    "rec = []\n",
    "with open('ss.json', 'r') as f:\n",
    "    for line in f:\n",
    "        record = json.loads(line)\n",
    "        rec.append(record)"
   ]
  },
  {
   "cell_type": "code",
   "execution_count": 57,
   "id": "0978cde4-be0c-415b-bc35-00ddedf9d8cb",
   "metadata": {},
   "outputs": [],
   "source": [
    "X, y = [], []\n",
    "for i in rec:\n",
    "    X.append(i['prompt'])\n",
    "    y.append(i['response'])"
   ]
  },
  {
   "cell_type": "code",
   "execution_count": 58,
   "id": "3268c7f6-5950-4690-a635-3bac117542dd",
   "metadata": {},
   "outputs": [],
   "source": [
    "df = pd.DataFrame()\n",
    "df['question'] = X\n",
    "df['response'] = y"
   ]
  },
  {
   "cell_type": "code",
   "execution_count": 59,
   "id": "b057e7fd-2e99-4bec-ab6c-8947c5340c7f",
   "metadata": {},
   "outputs": [
    {
     "data": {
      "text/html": [
       "<div>\n",
       "<style scoped>\n",
       "    .dataframe tbody tr th:only-of-type {\n",
       "        vertical-align: middle;\n",
       "    }\n",
       "\n",
       "    .dataframe tbody tr th {\n",
       "        vertical-align: top;\n",
       "    }\n",
       "\n",
       "    .dataframe thead th {\n",
       "        text-align: right;\n",
       "    }\n",
       "</style>\n",
       "<table border=\"1\" class=\"dataframe\">\n",
       "  <thead>\n",
       "    <tr style=\"text-align: right;\">\n",
       "      <th></th>\n",
       "      <th>question</th>\n",
       "      <th>response</th>\n",
       "    </tr>\n",
       "  </thead>\n",
       "  <tbody>\n",
       "    <tr>\n",
       "      <th>0</th>\n",
       "      <td>Delve into the intricate ways Histochemistry i...</td>\n",
       "      <td>Histochemistry, the study of the chemical comp...</td>\n",
       "    </tr>\n",
       "    <tr>\n",
       "      <th>1</th>\n",
       "      <td>How does Chemical engineering intersect with t...</td>\n",
       "      <td>Chemical engineering plays a significant role ...</td>\n",
       "    </tr>\n",
       "    <tr>\n",
       "      <th>2</th>\n",
       "      <td>What are the implications of Outline of paraps...</td>\n",
       "      <td>The \"Outline of parapsychology\" is a scientifi...</td>\n",
       "    </tr>\n",
       "    <tr>\n",
       "      <th>3</th>\n",
       "      <td>How does Phytopathology influence the developm...</td>\n",
       "      <td>Phytopathology, the scientific study of plant ...</td>\n",
       "    </tr>\n",
       "    <tr>\n",
       "      <th>4</th>\n",
       "      <td>Delve into the detailed ethical dilemmas posed...</td>\n",
       "      <td>The insurance industry has witnessed significa...</td>\n",
       "    </tr>\n",
       "  </tbody>\n",
       "</table>\n",
       "</div>"
      ],
      "text/plain": [
       "                                            question  \\\n",
       "0  Delve into the intricate ways Histochemistry i...   \n",
       "1  How does Chemical engineering intersect with t...   \n",
       "2  What are the implications of Outline of paraps...   \n",
       "3  How does Phytopathology influence the developm...   \n",
       "4  Delve into the detailed ethical dilemmas posed...   \n",
       "\n",
       "                                            response  \n",
       "0  Histochemistry, the study of the chemical comp...  \n",
       "1  Chemical engineering plays a significant role ...  \n",
       "2  The \"Outline of parapsychology\" is a scientifi...  \n",
       "3  Phytopathology, the scientific study of plant ...  \n",
       "4  The insurance industry has witnessed significa...  "
      ]
     },
     "execution_count": 59,
     "metadata": {},
     "output_type": "execute_result"
    }
   ],
   "source": [
    "df.head()"
   ]
  },
  {
   "cell_type": "code",
   "execution_count": 60,
   "id": "40da4b46-5db7-4e2a-b2c8-0aa004fdb6c9",
   "metadata": {},
   "outputs": [
    {
     "data": {
      "text/plain": [
       "(2984, 2)"
      ]
     },
     "execution_count": 60,
     "metadata": {},
     "output_type": "execute_result"
    }
   ],
   "source": [
    "df.shape"
   ]
  },
  {
   "cell_type": "code",
   "execution_count": 61,
   "id": "d70a0c1f-cbce-41c1-a8f1-c725edb3c7ba",
   "metadata": {},
   "outputs": [
    {
     "name": "stdout",
     "output_type": "stream",
     "text": [
      "2984\n"
     ]
    }
   ],
   "source": [
    "b = range(0, 2984)\n",
    "print(len(b))"
   ]
  },
  {
   "cell_type": "code",
   "execution_count": 62,
   "id": "02915e68-573a-4f42-acf9-580516a84c53",
   "metadata": {},
   "outputs": [],
   "source": [
    "df['label'] = b"
   ]
  },
  {
   "cell_type": "code",
   "execution_count": 63,
   "id": "0569daf9-5412-478d-ba9e-d103c965972b",
   "metadata": {},
   "outputs": [
    {
     "data": {
      "text/html": [
       "<div>\n",
       "<style scoped>\n",
       "    .dataframe tbody tr th:only-of-type {\n",
       "        vertical-align: middle;\n",
       "    }\n",
       "\n",
       "    .dataframe tbody tr th {\n",
       "        vertical-align: top;\n",
       "    }\n",
       "\n",
       "    .dataframe thead th {\n",
       "        text-align: right;\n",
       "    }\n",
       "</style>\n",
       "<table border=\"1\" class=\"dataframe\">\n",
       "  <thead>\n",
       "    <tr style=\"text-align: right;\">\n",
       "      <th></th>\n",
       "      <th>question</th>\n",
       "      <th>response</th>\n",
       "      <th>label</th>\n",
       "    </tr>\n",
       "  </thead>\n",
       "  <tbody>\n",
       "    <tr>\n",
       "      <th>0</th>\n",
       "      <td>Delve into the intricate ways Histochemistry i...</td>\n",
       "      <td>Histochemistry, the study of the chemical comp...</td>\n",
       "      <td>0</td>\n",
       "    </tr>\n",
       "    <tr>\n",
       "      <th>1</th>\n",
       "      <td>How does Chemical engineering intersect with t...</td>\n",
       "      <td>Chemical engineering plays a significant role ...</td>\n",
       "      <td>1</td>\n",
       "    </tr>\n",
       "    <tr>\n",
       "      <th>2</th>\n",
       "      <td>What are the implications of Outline of paraps...</td>\n",
       "      <td>The \"Outline of parapsychology\" is a scientifi...</td>\n",
       "      <td>2</td>\n",
       "    </tr>\n",
       "    <tr>\n",
       "      <th>3</th>\n",
       "      <td>How does Phytopathology influence the developm...</td>\n",
       "      <td>Phytopathology, the scientific study of plant ...</td>\n",
       "      <td>3</td>\n",
       "    </tr>\n",
       "    <tr>\n",
       "      <th>4</th>\n",
       "      <td>Delve into the detailed ethical dilemmas posed...</td>\n",
       "      <td>The insurance industry has witnessed significa...</td>\n",
       "      <td>4</td>\n",
       "    </tr>\n",
       "  </tbody>\n",
       "</table>\n",
       "</div>"
      ],
      "text/plain": [
       "                                            question  \\\n",
       "0  Delve into the intricate ways Histochemistry i...   \n",
       "1  How does Chemical engineering intersect with t...   \n",
       "2  What are the implications of Outline of paraps...   \n",
       "3  How does Phytopathology influence the developm...   \n",
       "4  Delve into the detailed ethical dilemmas posed...   \n",
       "\n",
       "                                            response  label  \n",
       "0  Histochemistry, the study of the chemical comp...      0  \n",
       "1  Chemical engineering plays a significant role ...      1  \n",
       "2  The \"Outline of parapsychology\" is a scientifi...      2  \n",
       "3  Phytopathology, the scientific study of plant ...      3  \n",
       "4  The insurance industry has witnessed significa...      4  "
      ]
     },
     "execution_count": 63,
     "metadata": {},
     "output_type": "execute_result"
    }
   ],
   "source": [
    "df.head()"
   ]
  },
  {
   "cell_type": "code",
   "execution_count": 64,
   "id": "448508f8-5246-4604-97c8-1f097b20144c",
   "metadata": {},
   "outputs": [
    {
     "name": "stdout",
     "output_type": "stream",
     "text": [
      "<class 'pandas.core.frame.DataFrame'>\n",
      "RangeIndex: 2984 entries, 0 to 2983\n",
      "Data columns (total 3 columns):\n",
      " #   Column    Non-Null Count  Dtype \n",
      "---  ------    --------------  ----- \n",
      " 0   question  2984 non-null   object\n",
      " 1   response  2984 non-null   object\n",
      " 2   label     2984 non-null   int64 \n",
      "dtypes: int64(1), object(2)\n",
      "memory usage: 70.1+ KB\n"
     ]
    }
   ],
   "source": [
    "df.info()"
   ]
  },
  {
   "cell_type": "code",
   "execution_count": 65,
   "id": "ec3f4e88-2eb5-4033-bee7-c5991013f3f4",
   "metadata": {},
   "outputs": [
    {
     "data": {
      "text/plain": [
       "question    0\n",
       "response    0\n",
       "label       0\n",
       "dtype: int64"
      ]
     },
     "execution_count": 65,
     "metadata": {},
     "output_type": "execute_result"
    }
   ],
   "source": [
    "df.isnull().sum()"
   ]
  },
  {
   "cell_type": "code",
   "execution_count": 66,
   "id": "d4e8b4f6-78bc-43e8-8c47-62224af713a0",
   "metadata": {},
   "outputs": [
    {
     "data": {
      "text/plain": [
       "np.int64(0)"
      ]
     },
     "execution_count": 66,
     "metadata": {},
     "output_type": "execute_result"
    }
   ],
   "source": [
    "df.duplicated().sum()"
   ]
  },
  {
   "cell_type": "code",
   "execution_count": 67,
   "id": "386ac1f6-1149-4633-8e92-9002a3fd2d8f",
   "metadata": {},
   "outputs": [],
   "source": [
    "resp = dict()\n",
    "for i in range(0, df.shape[0]):\n",
    "    resp[df['label'][i]] = df['response'][i]"
   ]
  },
  {
   "cell_type": "code",
   "execution_count": 68,
   "id": "cba5e80c-8b5d-4701-a4ba-483ace617468",
   "metadata": {},
   "outputs": [],
   "source": [
    "tokenizer = Tokenizer()\n",
    "tokenizer.fit_on_texts(df['question'])\n",
    "seq = tokenizer.texts_to_sequences(df['question'])"
   ]
  },
  {
   "cell_type": "code",
   "execution_count": 69,
   "id": "902dada7-9c37-4cff-897f-ca317d19acee",
   "metadata": {},
   "outputs": [
    {
     "data": {
      "text/plain": [
       "1671"
      ]
     },
     "execution_count": 69,
     "metadata": {},
     "output_type": "execute_result"
    }
   ],
   "source": [
    "vocab_size = len(tokenizer.word_index) + 1\n",
    "vocab_size"
   ]
  },
  {
   "cell_type": "code",
   "execution_count": 70,
   "id": "d7336b18-5323-4b3b-ae0d-131d1fc0e74b",
   "metadata": {},
   "outputs": [
    {
     "data": {
      "text/plain": [
       "27"
      ]
     },
     "execution_count": 70,
     "metadata": {},
     "output_type": "execute_result"
    }
   ],
   "source": [
    "maxlen = max([len(i) for i in seq])\n",
    "maxlen"
   ]
  },
  {
   "cell_type": "code",
   "execution_count": 71,
   "id": "d7082f5c-8389-40e5-91f2-6ccf89769bd4",
   "metadata": {},
   "outputs": [],
   "source": [
    "pad_seq = pad_sequences(seq, maxlen = maxlen, padding = 'post')"
   ]
  },
  {
   "cell_type": "code",
   "execution_count": 72,
   "id": "ee21ce88-2f00-4a35-9055-42fd1023c344",
   "metadata": {},
   "outputs": [],
   "source": [
    "glove_file = open('glove.6B.100d.txt', encoding = 'utf-8')\n",
    "embedding_matrix = dict()\n",
    "for line in glove_file:\n",
    "    record = line.split()\n",
    "    word = record[0]\n",
    "    vec = np.asarray(record[1: ], dtype = 'float32')\n",
    "    embedding_matrix[word] = vec\n",
    "glove_file.close()"
   ]
  },
  {
   "cell_type": "code",
   "execution_count": 73,
   "id": "b0729b55-7073-42ba-bb9c-3e8b433c092f",
   "metadata": {},
   "outputs": [],
   "source": [
    "embedding_vectors = np.zeros((vocab_size, 100))\n",
    "for word, index in tokenizer.word_index.items():\n",
    "    vector = embedding_matrix.get(word)\n",
    "    if vector is not None:\n",
    "        embedding_vectors[index] = vector"
   ]
  },
  {
   "cell_type": "code",
   "execution_count": 74,
   "id": "b25ce9e6-a8be-426f-bbd3-8a977f5b8afb",
   "metadata": {},
   "outputs": [],
   "source": [
    "y = df['label']"
   ]
  },
  {
   "cell_type": "code",
   "execution_count": 75,
   "id": "d9447283-505c-4c34-9051-611b2ed3931c",
   "metadata": {},
   "outputs": [
    {
     "name": "stdout",
     "output_type": "stream",
     "text": [
      "2984\n"
     ]
    }
   ],
   "source": [
    "classes = df['label'].nunique()\n",
    "print(classes)"
   ]
  },
  {
   "cell_type": "code",
   "execution_count": 92,
   "id": "6882c47a-9e54-4a3b-96e4-a829d74be3fd",
   "metadata": {},
   "outputs": [],
   "source": [
    "model = Sequential()"
   ]
  },
  {
   "cell_type": "code",
   "execution_count": 93,
   "id": "42717c7c-40fc-4b43-83ff-a25d9c676d81",
   "metadata": {},
   "outputs": [],
   "source": [
    "model.add(Embedding(vocab_size, 100, embeddings_initializer = Constant(embedding_vectors), trainable = False))\n",
    "model.add(Conv1D(16, 3, padding = 'same', activation = 'relu'))\n",
    "model.add(MaxPooling1D(pool_size = 2))\n",
    "model.add(Bidirectional(LSTM(25)))\n",
    "model.add(Dense(classes, activation = 'softmax'))"
   ]
  },
  {
   "cell_type": "code",
   "execution_count": 94,
   "id": "521eb8fb-b60a-48e9-95c9-f86240e2cb09",
   "metadata": {},
   "outputs": [],
   "source": [
    "model.compile(\n",
    "    optimizer = 'adam', \n",
    "    loss = 'sparse_categorical_crossentropy',\n",
    "    metrics = ['accuracy']\n",
    ")"
   ]
  },
  {
   "cell_type": "code",
   "execution_count": 95,
   "id": "b6ce69f9-e903-4848-870e-f974a1386c58",
   "metadata": {},
   "outputs": [],
   "source": [
    "early_stopping = EarlyStopping(monitor = 'loss', patience = 7)"
   ]
  },
  {
   "cell_type": "code",
   "execution_count": 96,
   "id": "dd30681e-231d-495e-a218-0dec1c147715",
   "metadata": {},
   "outputs": [
    {
     "name": "stdout",
     "output_type": "stream",
     "text": [
      "Epoch 1/150\n",
      "\u001b[1m94/94\u001b[0m \u001b[32m━━━━━━━━━━━━━━━━━━━━\u001b[0m\u001b[37m\u001b[0m \u001b[1m5s\u001b[0m 12ms/step - accuracy: 0.0000e+00 - loss: 8.0113\n",
      "Epoch 2/150\n",
      "\u001b[1m94/94\u001b[0m \u001b[32m━━━━━━━━━━━━━━━━━━━━\u001b[0m\u001b[37m\u001b[0m \u001b[1m1s\u001b[0m 12ms/step - accuracy: 0.0017 - loss: 8.0123\n",
      "Epoch 3/150\n",
      "\u001b[1m94/94\u001b[0m \u001b[32m━━━━━━━━━━━━━━━━━━━━\u001b[0m\u001b[37m\u001b[0m \u001b[1m1s\u001b[0m 12ms/step - accuracy: 0.0000e+00 - loss: 8.0147\n",
      "Epoch 4/150\n",
      "\u001b[1m94/94\u001b[0m \u001b[32m━━━━━━━━━━━━━━━━━━━━\u001b[0m\u001b[37m\u001b[0m \u001b[1m1s\u001b[0m 12ms/step - accuracy: 0.0000e+00 - loss: 8.0056\n",
      "Epoch 5/150\n",
      "\u001b[1m94/94\u001b[0m \u001b[32m━━━━━━━━━━━━━━━━━━━━\u001b[0m\u001b[37m\u001b[0m \u001b[1m1s\u001b[0m 14ms/step - accuracy: 0.0000e+00 - loss: 8.0006\n",
      "Epoch 6/150\n",
      "\u001b[1m94/94\u001b[0m \u001b[32m━━━━━━━━━━━━━━━━━━━━\u001b[0m\u001b[37m\u001b[0m \u001b[1m1s\u001b[0m 13ms/step - accuracy: 0.0000e+00 - loss: 7.9870\n",
      "Epoch 7/150\n",
      "\u001b[1m94/94\u001b[0m \u001b[32m━━━━━━━━━━━━━━━━━━━━\u001b[0m\u001b[37m\u001b[0m \u001b[1m1s\u001b[0m 15ms/step - accuracy: 3.4468e-04 - loss: 7.8745\n",
      "Epoch 8/150\n",
      "\u001b[1m94/94\u001b[0m \u001b[32m━━━━━━━━━━━━━━━━━━━━\u001b[0m\u001b[37m\u001b[0m \u001b[1m1s\u001b[0m 15ms/step - accuracy: 0.0049 - loss: 7.5899\n",
      "Epoch 9/150\n",
      "\u001b[1m94/94\u001b[0m \u001b[32m━━━━━━━━━━━━━━━━━━━━\u001b[0m\u001b[37m\u001b[0m \u001b[1m1s\u001b[0m 13ms/step - accuracy: 0.0064 - loss: 7.2163\n",
      "Epoch 10/150\n",
      "\u001b[1m94/94\u001b[0m \u001b[32m━━━━━━━━━━━━━━━━━━━━\u001b[0m\u001b[37m\u001b[0m \u001b[1m1s\u001b[0m 14ms/step - accuracy: 0.0303 - loss: 6.8179\n",
      "Epoch 11/150\n",
      "\u001b[1m94/94\u001b[0m \u001b[32m━━━━━━━━━━━━━━━━━━━━\u001b[0m\u001b[37m\u001b[0m \u001b[1m1s\u001b[0m 13ms/step - accuracy: 0.0759 - loss: 6.4843\n",
      "Epoch 12/150\n",
      "\u001b[1m94/94\u001b[0m \u001b[32m━━━━━━━━━━━━━━━━━━━━\u001b[0m\u001b[37m\u001b[0m \u001b[1m1s\u001b[0m 12ms/step - accuracy: 0.1321 - loss: 6.1713\n",
      "Epoch 13/150\n",
      "\u001b[1m94/94\u001b[0m \u001b[32m━━━━━━━━━━━━━━━━━━━━\u001b[0m\u001b[37m\u001b[0m \u001b[1m1s\u001b[0m 12ms/step - accuracy: 0.2141 - loss: 5.8998\n",
      "Epoch 14/150\n",
      "\u001b[1m94/94\u001b[0m \u001b[32m━━━━━━━━━━━━━━━━━━━━\u001b[0m\u001b[37m\u001b[0m \u001b[1m1s\u001b[0m 14ms/step - accuracy: 0.3035 - loss: 5.6556\n",
      "Epoch 15/150\n",
      "\u001b[1m94/94\u001b[0m \u001b[32m━━━━━━━━━━━━━━━━━━━━\u001b[0m\u001b[37m\u001b[0m \u001b[1m1s\u001b[0m 14ms/step - accuracy: 0.4090 - loss: 5.4104\n",
      "Epoch 16/150\n",
      "\u001b[1m94/94\u001b[0m \u001b[32m━━━━━━━━━━━━━━━━━━━━\u001b[0m\u001b[37m\u001b[0m \u001b[1m1s\u001b[0m 14ms/step - accuracy: 0.4829 - loss: 5.1979\n",
      "Epoch 17/150\n",
      "\u001b[1m94/94\u001b[0m \u001b[32m━━━━━━━━━━━━━━━━━━━━\u001b[0m\u001b[37m\u001b[0m \u001b[1m1s\u001b[0m 13ms/step - accuracy: 0.5548 - loss: 4.9796\n",
      "Epoch 18/150\n",
      "\u001b[1m94/94\u001b[0m \u001b[32m━━━━━━━━━━━━━━━━━━━━\u001b[0m\u001b[37m\u001b[0m \u001b[1m1s\u001b[0m 13ms/step - accuracy: 0.6178 - loss: 4.7778\n",
      "Epoch 19/150\n",
      "\u001b[1m94/94\u001b[0m \u001b[32m━━━━━━━━━━━━━━━━━━━━\u001b[0m\u001b[37m\u001b[0m \u001b[1m1s\u001b[0m 14ms/step - accuracy: 0.6733 - loss: 4.5942\n",
      "Epoch 20/150\n",
      "\u001b[1m94/94\u001b[0m \u001b[32m━━━━━━━━━━━━━━━━━━━━\u001b[0m\u001b[37m\u001b[0m \u001b[1m1s\u001b[0m 14ms/step - accuracy: 0.7084 - loss: 4.4182\n",
      "Epoch 21/150\n",
      "\u001b[1m94/94\u001b[0m \u001b[32m━━━━━━━━━━━━━━━━━━━━\u001b[0m\u001b[37m\u001b[0m \u001b[1m2s\u001b[0m 16ms/step - accuracy: 0.7287 - loss: 4.2663\n",
      "Epoch 22/150\n",
      "\u001b[1m94/94\u001b[0m \u001b[32m━━━━━━━━━━━━━━━━━━━━\u001b[0m\u001b[37m\u001b[0m \u001b[1m1s\u001b[0m 13ms/step - accuracy: 0.7514 - loss: 4.0844\n",
      "Epoch 23/150\n",
      "\u001b[1m94/94\u001b[0m \u001b[32m━━━━━━━━━━━━━━━━━━━━\u001b[0m\u001b[37m\u001b[0m \u001b[1m1s\u001b[0m 14ms/step - accuracy: 0.7769 - loss: 3.9359\n",
      "Epoch 24/150\n",
      "\u001b[1m94/94\u001b[0m \u001b[32m━━━━━━━━━━━━━━━━━━━━\u001b[0m\u001b[37m\u001b[0m \u001b[1m1s\u001b[0m 14ms/step - accuracy: 0.8211 - loss: 3.7740\n",
      "Epoch 25/150\n",
      "\u001b[1m94/94\u001b[0m \u001b[32m━━━━━━━━━━━━━━━━━━━━\u001b[0m\u001b[37m\u001b[0m \u001b[1m1s\u001b[0m 14ms/step - accuracy: 0.8125 - loss: 3.6287\n",
      "Epoch 26/150\n",
      "\u001b[1m94/94\u001b[0m \u001b[32m━━━━━━━━━━━━━━━━━━━━\u001b[0m\u001b[37m\u001b[0m \u001b[1m3s\u001b[0m 13ms/step - accuracy: 0.8405 - loss: 3.5179\n",
      "Epoch 27/150\n",
      "\u001b[1m94/94\u001b[0m \u001b[32m━━━━━━━━━━━━━━━━━━━━\u001b[0m\u001b[37m\u001b[0m \u001b[1m1s\u001b[0m 13ms/step - accuracy: 0.8486 - loss: 3.3545\n",
      "Epoch 28/150\n",
      "\u001b[1m94/94\u001b[0m \u001b[32m━━━━━━━━━━━━━━━━━━━━\u001b[0m\u001b[37m\u001b[0m \u001b[1m1s\u001b[0m 13ms/step - accuracy: 0.8666 - loss: 3.2232\n",
      "Epoch 29/150\n",
      "\u001b[1m94/94\u001b[0m \u001b[32m━━━━━━━━━━━━━━━━━━━━\u001b[0m\u001b[37m\u001b[0m \u001b[1m1s\u001b[0m 13ms/step - accuracy: 0.8650 - loss: 3.1164\n",
      "Epoch 30/150\n",
      "\u001b[1m94/94\u001b[0m \u001b[32m━━━━━━━━━━━━━━━━━━━━\u001b[0m\u001b[37m\u001b[0m \u001b[1m1s\u001b[0m 14ms/step - accuracy: 0.8725 - loss: 2.9984\n",
      "Epoch 31/150\n",
      "\u001b[1m94/94\u001b[0m \u001b[32m━━━━━━━━━━━━━━━━━━━━\u001b[0m\u001b[37m\u001b[0m \u001b[1m3s\u001b[0m 14ms/step - accuracy: 0.8914 - loss: 2.8718\n",
      "Epoch 32/150\n",
      "\u001b[1m94/94\u001b[0m \u001b[32m━━━━━━━━━━━━━━━━━━━━\u001b[0m\u001b[37m\u001b[0m \u001b[1m3s\u001b[0m 13ms/step - accuracy: 0.8922 - loss: 2.7666\n",
      "Epoch 33/150\n",
      "\u001b[1m94/94\u001b[0m \u001b[32m━━━━━━━━━━━━━━━━━━━━\u001b[0m\u001b[37m\u001b[0m \u001b[1m1s\u001b[0m 14ms/step - accuracy: 0.8943 - loss: 2.6430\n",
      "Epoch 34/150\n",
      "\u001b[1m94/94\u001b[0m \u001b[32m━━━━━━━━━━━━━━━━━━━━\u001b[0m\u001b[37m\u001b[0m \u001b[1m1s\u001b[0m 13ms/step - accuracy: 0.9123 - loss: 2.5580\n",
      "Epoch 35/150\n",
      "\u001b[1m94/94\u001b[0m \u001b[32m━━━━━━━━━━━━━━━━━━━━\u001b[0m\u001b[37m\u001b[0m \u001b[1m1s\u001b[0m 13ms/step - accuracy: 0.9241 - loss: 2.4209\n",
      "Epoch 36/150\n",
      "\u001b[1m94/94\u001b[0m \u001b[32m━━━━━━━━━━━━━━━━━━━━\u001b[0m\u001b[37m\u001b[0m \u001b[1m1s\u001b[0m 13ms/step - accuracy: 0.9227 - loss: 2.3499\n",
      "Epoch 37/150\n",
      "\u001b[1m94/94\u001b[0m \u001b[32m━━━━━━━━━━━━━━━━━━━━\u001b[0m\u001b[37m\u001b[0m \u001b[1m1s\u001b[0m 15ms/step - accuracy: 0.9277 - loss: 2.2697\n",
      "Epoch 38/150\n",
      "\u001b[1m94/94\u001b[0m \u001b[32m━━━━━━━━━━━━━━━━━━━━\u001b[0m\u001b[37m\u001b[0m \u001b[1m1s\u001b[0m 14ms/step - accuracy: 0.9411 - loss: 2.1540\n",
      "Epoch 39/150\n",
      "\u001b[1m94/94\u001b[0m \u001b[32m━━━━━━━━━━━━━━━━━━━━\u001b[0m\u001b[37m\u001b[0m \u001b[1m1s\u001b[0m 14ms/step - accuracy: 0.9374 - loss: 2.0898\n",
      "Epoch 40/150\n",
      "\u001b[1m94/94\u001b[0m \u001b[32m━━━━━━━━━━━━━━━━━━━━\u001b[0m\u001b[37m\u001b[0m \u001b[1m1s\u001b[0m 13ms/step - accuracy: 0.9347 - loss: 2.0070\n",
      "Epoch 41/150\n",
      "\u001b[1m94/94\u001b[0m \u001b[32m━━━━━━━━━━━━━━━━━━━━\u001b[0m\u001b[37m\u001b[0m \u001b[1m1s\u001b[0m 13ms/step - accuracy: 0.9477 - loss: 1.9046\n",
      "Epoch 42/150\n",
      "\u001b[1m94/94\u001b[0m \u001b[32m━━━━━━━━━━━━━━━━━━━━\u001b[0m\u001b[37m\u001b[0m \u001b[1m1s\u001b[0m 13ms/step - accuracy: 0.9519 - loss: 1.8246\n",
      "Epoch 43/150\n",
      "\u001b[1m94/94\u001b[0m \u001b[32m━━━━━━━━━━━━━━━━━━━━\u001b[0m\u001b[37m\u001b[0m \u001b[1m1s\u001b[0m 15ms/step - accuracy: 0.9483 - loss: 1.7567\n",
      "Epoch 44/150\n",
      "\u001b[1m94/94\u001b[0m \u001b[32m━━━━━━━━━━━━━━━━━━━━\u001b[0m\u001b[37m\u001b[0m \u001b[1m1s\u001b[0m 14ms/step - accuracy: 0.9543 - loss: 1.6942\n",
      "Epoch 45/150\n",
      "\u001b[1m94/94\u001b[0m \u001b[32m━━━━━━━━━━━━━━━━━━━━\u001b[0m\u001b[37m\u001b[0m \u001b[1m1s\u001b[0m 14ms/step - accuracy: 0.9570 - loss: 1.6257\n",
      "Epoch 46/150\n",
      "\u001b[1m94/94\u001b[0m \u001b[32m━━━━━━━━━━━━━━━━━━━━\u001b[0m\u001b[37m\u001b[0m \u001b[1m1s\u001b[0m 14ms/step - accuracy: 0.9547 - loss: 1.5671\n",
      "Epoch 47/150\n",
      "\u001b[1m94/94\u001b[0m \u001b[32m━━━━━━━━━━━━━━━━━━━━\u001b[0m\u001b[37m\u001b[0m \u001b[1m1s\u001b[0m 14ms/step - accuracy: 0.9546 - loss: 1.5265\n",
      "Epoch 48/150\n",
      "\u001b[1m94/94\u001b[0m \u001b[32m━━━━━━━━━━━━━━━━━━━━\u001b[0m\u001b[37m\u001b[0m \u001b[1m1s\u001b[0m 14ms/step - accuracy: 0.9598 - loss: 1.4373\n",
      "Epoch 49/150\n",
      "\u001b[1m94/94\u001b[0m \u001b[32m━━━━━━━━━━━━━━━━━━━━\u001b[0m\u001b[37m\u001b[0m \u001b[1m1s\u001b[0m 15ms/step - accuracy: 0.9704 - loss: 1.3777\n",
      "Epoch 50/150\n",
      "\u001b[1m94/94\u001b[0m \u001b[32m━━━━━━━━━━━━━━━━━━━━\u001b[0m\u001b[37m\u001b[0m \u001b[1m1s\u001b[0m 14ms/step - accuracy: 0.9580 - loss: 1.3392\n",
      "Epoch 51/150\n",
      "\u001b[1m94/94\u001b[0m \u001b[32m━━━━━━━━━━━━━━━━━━━━\u001b[0m\u001b[37m\u001b[0m \u001b[1m1s\u001b[0m 14ms/step - accuracy: 0.9673 - loss: 1.2958\n",
      "Epoch 52/150\n",
      "\u001b[1m94/94\u001b[0m \u001b[32m━━━━━━━━━━━━━━━━━━━━\u001b[0m\u001b[37m\u001b[0m \u001b[1m1s\u001b[0m 13ms/step - accuracy: 0.9608 - loss: 1.2408\n",
      "Epoch 53/150\n",
      "\u001b[1m94/94\u001b[0m \u001b[32m━━━━━━━━━━━━━━━━━━━━\u001b[0m\u001b[37m\u001b[0m \u001b[1m1s\u001b[0m 13ms/step - accuracy: 0.9706 - loss: 1.1753\n",
      "Epoch 54/150\n",
      "\u001b[1m94/94\u001b[0m \u001b[32m━━━━━━━━━━━━━━━━━━━━\u001b[0m\u001b[37m\u001b[0m \u001b[1m1s\u001b[0m 12ms/step - accuracy: 0.9728 - loss: 1.1283\n",
      "Epoch 55/150\n",
      "\u001b[1m94/94\u001b[0m \u001b[32m━━━━━━━━━━━━━━━━━━━━\u001b[0m\u001b[37m\u001b[0m \u001b[1m1s\u001b[0m 13ms/step - accuracy: 0.9682 - loss: 1.0972\n",
      "Epoch 56/150\n",
      "\u001b[1m94/94\u001b[0m \u001b[32m━━━━━━━━━━━━━━━━━━━━\u001b[0m\u001b[37m\u001b[0m \u001b[1m1s\u001b[0m 14ms/step - accuracy: 0.9770 - loss: 1.0535\n",
      "Epoch 57/150\n",
      "\u001b[1m94/94\u001b[0m \u001b[32m━━━━━━━━━━━━━━━━━━━━\u001b[0m\u001b[37m\u001b[0m \u001b[1m1s\u001b[0m 15ms/step - accuracy: 0.9782 - loss: 0.9907\n",
      "Epoch 58/150\n",
      "\u001b[1m94/94\u001b[0m \u001b[32m━━━━━━━━━━━━━━━━━━━━\u001b[0m\u001b[37m\u001b[0m \u001b[1m1s\u001b[0m 14ms/step - accuracy: 0.9700 - loss: 0.9725\n",
      "Epoch 59/150\n",
      "\u001b[1m94/94\u001b[0m \u001b[32m━━━━━━━━━━━━━━━━━━━━\u001b[0m\u001b[37m\u001b[0m \u001b[1m1s\u001b[0m 15ms/step - accuracy: 0.9820 - loss: 0.9335\n",
      "Epoch 60/150\n",
      "\u001b[1m94/94\u001b[0m \u001b[32m━━━━━━━━━━━━━━━━━━━━\u001b[0m\u001b[37m\u001b[0m \u001b[1m1s\u001b[0m 14ms/step - accuracy: 0.9781 - loss: 0.9023\n",
      "Epoch 61/150\n",
      "\u001b[1m94/94\u001b[0m \u001b[32m━━━━━━━━━━━━━━━━━━━━\u001b[0m\u001b[37m\u001b[0m \u001b[1m1s\u001b[0m 14ms/step - accuracy: 0.9754 - loss: 0.8850\n",
      "Epoch 62/150\n",
      "\u001b[1m94/94\u001b[0m \u001b[32m━━━━━━━━━━━━━━━━━━━━\u001b[0m\u001b[37m\u001b[0m \u001b[1m1s\u001b[0m 14ms/step - accuracy: 0.9768 - loss: 0.8201\n",
      "Epoch 63/150\n",
      "\u001b[1m94/94\u001b[0m \u001b[32m━━━━━━━━━━━━━━━━━━━━\u001b[0m\u001b[37m\u001b[0m \u001b[1m1s\u001b[0m 14ms/step - accuracy: 0.9760 - loss: 0.7882\n",
      "Epoch 64/150\n",
      "\u001b[1m94/94\u001b[0m \u001b[32m━━━━━━━━━━━━━━━━━━━━\u001b[0m\u001b[37m\u001b[0m \u001b[1m1s\u001b[0m 15ms/step - accuracy: 0.9815 - loss: 0.7570\n",
      "Epoch 65/150\n",
      "\u001b[1m94/94\u001b[0m \u001b[32m━━━━━━━━━━━━━━━━━━━━\u001b[0m\u001b[37m\u001b[0m \u001b[1m1s\u001b[0m 14ms/step - accuracy: 0.9803 - loss: 0.7332\n",
      "Epoch 66/150\n",
      "\u001b[1m94/94\u001b[0m \u001b[32m━━━━━━━━━━━━━━━━━━━━\u001b[0m\u001b[37m\u001b[0m \u001b[1m3s\u001b[0m 14ms/step - accuracy: 0.9793 - loss: 0.7173\n",
      "Epoch 67/150\n",
      "\u001b[1m94/94\u001b[0m \u001b[32m━━━━━━━━━━━━━━━━━━━━\u001b[0m\u001b[37m\u001b[0m \u001b[1m1s\u001b[0m 14ms/step - accuracy: 0.9813 - loss: 0.6870\n",
      "Epoch 68/150\n",
      "\u001b[1m94/94\u001b[0m \u001b[32m━━━━━━━━━━━━━━━━━━━━\u001b[0m\u001b[37m\u001b[0m \u001b[1m1s\u001b[0m 14ms/step - accuracy: 0.9771 - loss: 0.6559\n",
      "Epoch 69/150\n",
      "\u001b[1m94/94\u001b[0m \u001b[32m━━━━━━━━━━━━━━━━━━━━\u001b[0m\u001b[37m\u001b[0m \u001b[1m1s\u001b[0m 13ms/step - accuracy: 0.9779 - loss: 0.6581\n",
      "Epoch 70/150\n",
      "\u001b[1m94/94\u001b[0m \u001b[32m━━━━━━━━━━━━━━━━━━━━\u001b[0m\u001b[37m\u001b[0m \u001b[1m1s\u001b[0m 12ms/step - accuracy: 0.9808 - loss: 0.6104\n",
      "Epoch 71/150\n",
      "\u001b[1m94/94\u001b[0m \u001b[32m━━━━━━━━━━━━━━━━━━━━\u001b[0m\u001b[37m\u001b[0m \u001b[1m1s\u001b[0m 14ms/step - accuracy: 0.9824 - loss: 0.5983\n",
      "Epoch 72/150\n",
      "\u001b[1m94/94\u001b[0m \u001b[32m━━━━━━━━━━━━━━━━━━━━\u001b[0m\u001b[37m\u001b[0m \u001b[1m1s\u001b[0m 13ms/step - accuracy: 0.9822 - loss: 0.5698\n",
      "Epoch 73/150\n",
      "\u001b[1m94/94\u001b[0m \u001b[32m━━━━━━━━━━━━━━━━━━━━\u001b[0m\u001b[37m\u001b[0m \u001b[1m1s\u001b[0m 13ms/step - accuracy: 0.9784 - loss: 0.5448\n",
      "Epoch 74/150\n",
      "\u001b[1m94/94\u001b[0m \u001b[32m━━━━━━━━━━━━━━━━━━━━\u001b[0m\u001b[37m\u001b[0m \u001b[1m1s\u001b[0m 14ms/step - accuracy: 0.9870 - loss: 0.5230\n",
      "Epoch 75/150\n",
      "\u001b[1m94/94\u001b[0m \u001b[32m━━━━━━━━━━━━━━━━━━━━\u001b[0m\u001b[37m\u001b[0m \u001b[1m1s\u001b[0m 14ms/step - accuracy: 0.9780 - loss: 0.5351\n",
      "Epoch 76/150\n",
      "\u001b[1m94/94\u001b[0m \u001b[32m━━━━━━━━━━━━━━━━━━━━\u001b[0m\u001b[37m\u001b[0m \u001b[1m1s\u001b[0m 12ms/step - accuracy: 0.9762 - loss: 0.5090\n",
      "Epoch 77/150\n",
      "\u001b[1m94/94\u001b[0m \u001b[32m━━━━━━━━━━━━━━━━━━━━\u001b[0m\u001b[37m\u001b[0m \u001b[1m1s\u001b[0m 13ms/step - accuracy: 0.9846 - loss: 0.4868\n",
      "Epoch 78/150\n",
      "\u001b[1m94/94\u001b[0m \u001b[32m━━━━━━━━━━━━━━━━━━━━\u001b[0m\u001b[37m\u001b[0m \u001b[1m1s\u001b[0m 13ms/step - accuracy: 0.9820 - loss: 0.4645\n",
      "Epoch 79/150\n",
      "\u001b[1m94/94\u001b[0m \u001b[32m━━━━━━━━━━━━━━━━━━━━\u001b[0m\u001b[37m\u001b[0m \u001b[1m1s\u001b[0m 14ms/step - accuracy: 0.9851 - loss: 0.4399\n",
      "Epoch 80/150\n",
      "\u001b[1m94/94\u001b[0m \u001b[32m━━━━━━━━━━━━━━━━━━━━\u001b[0m\u001b[37m\u001b[0m \u001b[1m3s\u001b[0m 13ms/step - accuracy: 0.9826 - loss: 0.4243\n",
      "Epoch 81/150\n",
      "\u001b[1m94/94\u001b[0m \u001b[32m━━━━━━━━━━━━━━━━━━━━\u001b[0m\u001b[37m\u001b[0m \u001b[1m1s\u001b[0m 13ms/step - accuracy: 0.9836 - loss: 0.4193\n",
      "Epoch 82/150\n",
      "\u001b[1m94/94\u001b[0m \u001b[32m━━━━━━━━━━━━━━━━━━━━\u001b[0m\u001b[37m\u001b[0m \u001b[1m1s\u001b[0m 15ms/step - accuracy: 0.9868 - loss: 0.4261\n",
      "Epoch 83/150\n",
      "\u001b[1m94/94\u001b[0m \u001b[32m━━━━━━━━━━━━━━━━━━━━\u001b[0m\u001b[37m\u001b[0m \u001b[1m1s\u001b[0m 14ms/step - accuracy: 0.9894 - loss: 0.3900\n",
      "Epoch 84/150\n",
      "\u001b[1m94/94\u001b[0m \u001b[32m━━━━━━━━━━━━━━━━━━━━\u001b[0m\u001b[37m\u001b[0m \u001b[1m1s\u001b[0m 13ms/step - accuracy: 0.9902 - loss: 0.3703\n",
      "Epoch 85/150\n",
      "\u001b[1m94/94\u001b[0m \u001b[32m━━━━━━━━━━━━━━━━━━━━\u001b[0m\u001b[37m\u001b[0m \u001b[1m1s\u001b[0m 13ms/step - accuracy: 0.9837 - loss: 0.3650\n",
      "Epoch 86/150\n",
      "\u001b[1m94/94\u001b[0m \u001b[32m━━━━━━━━━━━━━━━━━━━━\u001b[0m\u001b[37m\u001b[0m \u001b[1m1s\u001b[0m 14ms/step - accuracy: 0.9878 - loss: 0.3555\n",
      "Epoch 87/150\n",
      "\u001b[1m94/94\u001b[0m \u001b[32m━━━━━━━━━━━━━━━━━━━━\u001b[0m\u001b[37m\u001b[0m \u001b[1m3s\u001b[0m 13ms/step - accuracy: 0.9840 - loss: 0.3309\n",
      "Epoch 88/150\n",
      "\u001b[1m94/94\u001b[0m \u001b[32m━━━━━━━━━━━━━━━━━━━━\u001b[0m\u001b[37m\u001b[0m \u001b[1m1s\u001b[0m 13ms/step - accuracy: 0.9881 - loss: 0.3355\n",
      "Epoch 89/150\n",
      "\u001b[1m94/94\u001b[0m \u001b[32m━━━━━━━━━━━━━━━━━━━━\u001b[0m\u001b[37m\u001b[0m \u001b[1m1s\u001b[0m 13ms/step - accuracy: 0.9854 - loss: 0.3152\n",
      "Epoch 90/150\n",
      "\u001b[1m94/94\u001b[0m \u001b[32m━━━━━━━━━━━━━━━━━━━━\u001b[0m\u001b[37m\u001b[0m \u001b[1m1s\u001b[0m 14ms/step - accuracy: 0.9872 - loss: 0.2997\n",
      "Epoch 91/150\n",
      "\u001b[1m94/94\u001b[0m \u001b[32m━━━━━━━━━━━━━━━━━━━━\u001b[0m\u001b[37m\u001b[0m \u001b[1m1s\u001b[0m 14ms/step - accuracy: 0.9859 - loss: 0.3019\n",
      "Epoch 92/150\n",
      "\u001b[1m94/94\u001b[0m \u001b[32m━━━━━━━━━━━━━━━━━━━━\u001b[0m\u001b[37m\u001b[0m \u001b[1m1s\u001b[0m 13ms/step - accuracy: 0.9889 - loss: 0.2805\n",
      "Epoch 93/150\n",
      "\u001b[1m94/94\u001b[0m \u001b[32m━━━━━━━━━━━━━━━━━━━━\u001b[0m\u001b[37m\u001b[0m \u001b[1m1s\u001b[0m 14ms/step - accuracy: 0.9894 - loss: 0.2752\n",
      "Epoch 94/150\n",
      "\u001b[1m94/94\u001b[0m \u001b[32m━━━━━━━━━━━━━━━━━━━━\u001b[0m\u001b[37m\u001b[0m \u001b[1m1s\u001b[0m 13ms/step - accuracy: 0.9851 - loss: 0.3021\n",
      "Epoch 95/150\n",
      "\u001b[1m94/94\u001b[0m \u001b[32m━━━━━━━━━━━━━━━━━━━━\u001b[0m\u001b[37m\u001b[0m \u001b[1m1s\u001b[0m 13ms/step - accuracy: 0.9859 - loss: 0.2933\n",
      "Epoch 96/150\n",
      "\u001b[1m94/94\u001b[0m \u001b[32m━━━━━━━━━━━━━━━━━━━━\u001b[0m\u001b[37m\u001b[0m \u001b[1m1s\u001b[0m 14ms/step - accuracy: 0.9794 - loss: 0.3123\n",
      "Epoch 97/150\n",
      "\u001b[1m94/94\u001b[0m \u001b[32m━━━━━━━━━━━━━━━━━━━━\u001b[0m\u001b[37m\u001b[0m \u001b[1m1s\u001b[0m 14ms/step - accuracy: 0.9893 - loss: 0.2552\n",
      "Epoch 98/150\n",
      "\u001b[1m94/94\u001b[0m \u001b[32m━━━━━━━━━━━━━━━━━━━━\u001b[0m\u001b[37m\u001b[0m \u001b[1m1s\u001b[0m 13ms/step - accuracy: 0.9874 - loss: 0.2589\n",
      "Epoch 99/150\n",
      "\u001b[1m94/94\u001b[0m \u001b[32m━━━━━━━━━━━━━━━━━━━━\u001b[0m\u001b[37m\u001b[0m \u001b[1m1s\u001b[0m 14ms/step - accuracy: 0.9906 - loss: 0.2247\n",
      "Epoch 100/150\n",
      "\u001b[1m94/94\u001b[0m \u001b[32m━━━━━━━━━━━━━━━━━━━━\u001b[0m\u001b[37m\u001b[0m \u001b[1m1s\u001b[0m 14ms/step - accuracy: 0.9858 - loss: 0.2178\n",
      "Epoch 101/150\n",
      "\u001b[1m94/94\u001b[0m \u001b[32m━━━━━━━━━━━━━━━━━━━━\u001b[0m\u001b[37m\u001b[0m \u001b[1m1s\u001b[0m 14ms/step - accuracy: 0.9916 - loss: 0.2087\n",
      "Epoch 102/150\n",
      "\u001b[1m94/94\u001b[0m \u001b[32m━━━━━━━━━━━━━━━━━━━━\u001b[0m\u001b[37m\u001b[0m \u001b[1m1s\u001b[0m 14ms/step - accuracy: 0.9929 - loss: 0.2049\n",
      "Epoch 103/150\n",
      "\u001b[1m94/94\u001b[0m \u001b[32m━━━━━━━━━━━━━━━━━━━━\u001b[0m\u001b[37m\u001b[0m \u001b[1m1s\u001b[0m 14ms/step - accuracy: 0.9888 - loss: 0.2075\n",
      "Epoch 104/150\n",
      "\u001b[1m94/94\u001b[0m \u001b[32m━━━━━━━━━━━━━━━━━━━━\u001b[0m\u001b[37m\u001b[0m \u001b[1m1s\u001b[0m 14ms/step - accuracy: 0.9895 - loss: 0.1927\n",
      "Epoch 105/150\n",
      "\u001b[1m94/94\u001b[0m \u001b[32m━━━━━━━━━━━━━━━━━━━━\u001b[0m\u001b[37m\u001b[0m \u001b[1m1s\u001b[0m 13ms/step - accuracy: 0.9924 - loss: 0.1772\n",
      "Epoch 106/150\n",
      "\u001b[1m94/94\u001b[0m \u001b[32m━━━━━━━━━━━━━━━━━━━━\u001b[0m\u001b[37m\u001b[0m \u001b[1m1s\u001b[0m 14ms/step - accuracy: 0.9906 - loss: 0.1978\n",
      "Epoch 107/150\n",
      "\u001b[1m94/94\u001b[0m \u001b[32m━━━━━━━━━━━━━━━━━━━━\u001b[0m\u001b[37m\u001b[0m \u001b[1m1s\u001b[0m 15ms/step - accuracy: 0.9902 - loss: 0.1972\n",
      "Epoch 108/150\n",
      "\u001b[1m94/94\u001b[0m \u001b[32m━━━━━━━━━━━━━━━━━━━━\u001b[0m\u001b[37m\u001b[0m \u001b[1m1s\u001b[0m 15ms/step - accuracy: 0.9871 - loss: 0.1921\n",
      "Epoch 109/150\n",
      "\u001b[1m94/94\u001b[0m \u001b[32m━━━━━━━━━━━━━━━━━━━━\u001b[0m\u001b[37m\u001b[0m \u001b[1m1s\u001b[0m 14ms/step - accuracy: 0.9856 - loss: 0.2169\n",
      "Epoch 110/150\n",
      "\u001b[1m94/94\u001b[0m \u001b[32m━━━━━━━━━━━━━━━━━━━━\u001b[0m\u001b[37m\u001b[0m \u001b[1m1s\u001b[0m 15ms/step - accuracy: 0.9908 - loss: 0.1985\n",
      "Epoch 111/150\n",
      "\u001b[1m94/94\u001b[0m \u001b[32m━━━━━━━━━━━━━━━━━━━━\u001b[0m\u001b[37m\u001b[0m \u001b[1m1s\u001b[0m 14ms/step - accuracy: 0.9875 - loss: 0.1633\n",
      "Epoch 112/150\n",
      "\u001b[1m94/94\u001b[0m \u001b[32m━━━━━━━━━━━━━━━━━━━━\u001b[0m\u001b[37m\u001b[0m \u001b[1m1s\u001b[0m 15ms/step - accuracy: 0.9904 - loss: 0.1488\n",
      "Epoch 113/150\n",
      "\u001b[1m94/94\u001b[0m \u001b[32m━━━━━━━━━━━━━━━━━━━━\u001b[0m\u001b[37m\u001b[0m \u001b[1m1s\u001b[0m 14ms/step - accuracy: 0.9905 - loss: 0.1484\n",
      "Epoch 114/150\n",
      "\u001b[1m94/94\u001b[0m \u001b[32m━━━━━━━━━━━━━━━━━━━━\u001b[0m\u001b[37m\u001b[0m \u001b[1m2s\u001b[0m 15ms/step - accuracy: 0.9916 - loss: 0.1471\n",
      "Epoch 115/150\n",
      "\u001b[1m94/94\u001b[0m \u001b[32m━━━━━━━━━━━━━━━━━━━━\u001b[0m\u001b[37m\u001b[0m \u001b[1m1s\u001b[0m 14ms/step - accuracy: 0.9936 - loss: 0.1457\n",
      "Epoch 116/150\n",
      "\u001b[1m94/94\u001b[0m \u001b[32m━━━━━━━━━━━━━━━━━━━━\u001b[0m\u001b[37m\u001b[0m \u001b[1m1s\u001b[0m 14ms/step - accuracy: 0.9879 - loss: 0.1419\n",
      "Epoch 117/150\n",
      "\u001b[1m94/94\u001b[0m \u001b[32m━━━━━━━━━━━━━━━━━━━━\u001b[0m\u001b[37m\u001b[0m \u001b[1m3s\u001b[0m 15ms/step - accuracy: 0.9906 - loss: 0.1285\n",
      "Epoch 118/150\n",
      "\u001b[1m94/94\u001b[0m \u001b[32m━━━━━━━━━━━━━━━━━━━━\u001b[0m\u001b[37m\u001b[0m \u001b[1m1s\u001b[0m 14ms/step - accuracy: 0.9883 - loss: 0.1230\n",
      "Epoch 119/150\n",
      "\u001b[1m94/94\u001b[0m \u001b[32m━━━━━━━━━━━━━━━━━━━━\u001b[0m\u001b[37m\u001b[0m \u001b[1m1s\u001b[0m 14ms/step - accuracy: 0.9841 - loss: 0.1461\n",
      "Epoch 120/150\n",
      "\u001b[1m94/94\u001b[0m \u001b[32m━━━━━━━━━━━━━━━━━━━━\u001b[0m\u001b[37m\u001b[0m \u001b[1m1s\u001b[0m 14ms/step - accuracy: 0.9874 - loss: 0.1574\n",
      "Epoch 121/150\n",
      "\u001b[1m94/94\u001b[0m \u001b[32m━━━━━━━━━━━━━━━━━━━━\u001b[0m\u001b[37m\u001b[0m \u001b[1m1s\u001b[0m 14ms/step - accuracy: 0.9491 - loss: 0.3302\n",
      "Epoch 122/150\n",
      "\u001b[1m94/94\u001b[0m \u001b[32m━━━━━━━━━━━━━━━━━━━━\u001b[0m\u001b[37m\u001b[0m \u001b[1m1s\u001b[0m 14ms/step - accuracy: 0.9860 - loss: 0.1507\n",
      "Epoch 123/150\n",
      "\u001b[1m94/94\u001b[0m \u001b[32m━━━━━━━━━━━━━━━━━━━━\u001b[0m\u001b[37m\u001b[0m \u001b[1m1s\u001b[0m 14ms/step - accuracy: 0.9925 - loss: 0.1134\n",
      "Epoch 124/150\n",
      "\u001b[1m94/94\u001b[0m \u001b[32m━━━━━━━━━━━━━━━━━━━━\u001b[0m\u001b[37m\u001b[0m \u001b[1m1s\u001b[0m 14ms/step - accuracy: 0.9944 - loss: 0.1014\n",
      "Epoch 125/150\n",
      "\u001b[1m94/94\u001b[0m \u001b[32m━━━━━━━━━━━━━━━━━━━━\u001b[0m\u001b[37m\u001b[0m \u001b[1m1s\u001b[0m 14ms/step - accuracy: 0.9916 - loss: 0.1161\n",
      "Epoch 126/150\n",
      "\u001b[1m94/94\u001b[0m \u001b[32m━━━━━━━━━━━━━━━━━━━━\u001b[0m\u001b[37m\u001b[0m \u001b[1m1s\u001b[0m 15ms/step - accuracy: 0.9943 - loss: 0.0992\n",
      "Epoch 127/150\n",
      "\u001b[1m94/94\u001b[0m \u001b[32m━━━━━━━━━━━━━━━━━━━━\u001b[0m\u001b[37m\u001b[0m \u001b[1m1s\u001b[0m 14ms/step - accuracy: 0.9910 - loss: 0.0965\n",
      "Epoch 128/150\n",
      "\u001b[1m94/94\u001b[0m \u001b[32m━━━━━━━━━━━━━━━━━━━━\u001b[0m\u001b[37m\u001b[0m \u001b[1m1s\u001b[0m 14ms/step - accuracy: 0.9917 - loss: 0.0926\n",
      "Epoch 129/150\n",
      "\u001b[1m94/94\u001b[0m \u001b[32m━━━━━━━━━━━━━━━━━━━━\u001b[0m\u001b[37m\u001b[0m \u001b[1m1s\u001b[0m 15ms/step - accuracy: 0.9947 - loss: 0.0836\n",
      "Epoch 130/150\n",
      "\u001b[1m94/94\u001b[0m \u001b[32m━━━━━━━━━━━━━━━━━━━━\u001b[0m\u001b[37m\u001b[0m \u001b[1m1s\u001b[0m 14ms/step - accuracy: 0.9932 - loss: 0.0909\n",
      "Epoch 131/150\n",
      "\u001b[1m94/94\u001b[0m \u001b[32m━━━━━━━━━━━━━━━━━━━━\u001b[0m\u001b[37m\u001b[0m \u001b[1m1s\u001b[0m 14ms/step - accuracy: 0.9948 - loss: 0.0924\n",
      "Epoch 132/150\n",
      "\u001b[1m94/94\u001b[0m \u001b[32m━━━━━━━━━━━━━━━━━━━━\u001b[0m\u001b[37m\u001b[0m \u001b[1m3s\u001b[0m 13ms/step - accuracy: 0.9931 - loss: 0.0828\n",
      "Epoch 133/150\n",
      "\u001b[1m94/94\u001b[0m \u001b[32m━━━━━━━━━━━━━━━━━━━━\u001b[0m\u001b[37m\u001b[0m \u001b[1m1s\u001b[0m 13ms/step - accuracy: 0.9942 - loss: 0.0811\n",
      "Epoch 134/150\n",
      "\u001b[1m94/94\u001b[0m \u001b[32m━━━━━━━━━━━━━━━━━━━━\u001b[0m\u001b[37m\u001b[0m \u001b[1m1s\u001b[0m 13ms/step - accuracy: 0.9932 - loss: 0.0898\n",
      "Epoch 135/150\n",
      "\u001b[1m94/94\u001b[0m \u001b[32m━━━━━━━━━━━━━━━━━━━━\u001b[0m\u001b[37m\u001b[0m \u001b[1m1s\u001b[0m 14ms/step - accuracy: 0.9909 - loss: 0.0845\n",
      "Epoch 136/150\n",
      "\u001b[1m94/94\u001b[0m \u001b[32m━━━━━━━━━━━━━━━━━━━━\u001b[0m\u001b[37m\u001b[0m \u001b[1m1s\u001b[0m 12ms/step - accuracy: 0.9750 - loss: 0.1794\n",
      "Epoch 137/150\n",
      "\u001b[1m94/94\u001b[0m \u001b[32m━━━━━━━━━━━━━━━━━━━━\u001b[0m\u001b[37m\u001b[0m \u001b[1m1s\u001b[0m 14ms/step - accuracy: 0.9729 - loss: 0.2114\n",
      "Epoch 138/150\n",
      "\u001b[1m94/94\u001b[0m \u001b[32m━━━━━━━━━━━━━━━━━━━━\u001b[0m\u001b[37m\u001b[0m \u001b[1m1s\u001b[0m 14ms/step - accuracy: 0.9906 - loss: 0.1138\n",
      "Epoch 139/150\n",
      "\u001b[1m94/94\u001b[0m \u001b[32m━━━━━━━━━━━━━━━━━━━━\u001b[0m\u001b[37m\u001b[0m \u001b[1m3s\u001b[0m 14ms/step - accuracy: 0.9873 - loss: 0.0972\n",
      "Epoch 140/150\n",
      "\u001b[1m94/94\u001b[0m \u001b[32m━━━━━━━━━━━━━━━━━━━━\u001b[0m\u001b[37m\u001b[0m \u001b[1m1s\u001b[0m 14ms/step - accuracy: 0.9893 - loss: 0.0945\n"
     ]
    }
   ],
   "source": [
    "history = model.fit(pad_seq, y, epochs = 150, callbacks = [early_stopping])"
   ]
  },
  {
   "cell_type": "code",
   "execution_count": 108,
   "id": "d5a3d055-2f91-4a7e-922b-494f5027801f",
   "metadata": {},
   "outputs": [
    {
     "name": "stdin",
     "output_type": "stream",
     "text": [
      "You:  Delve into the intricate ways Histochemistry interacts with emerging technologies\n"
     ]
    },
    {
     "name": "stdout",
     "output_type": "stream",
     "text": [
      "\u001b[1m1/1\u001b[0m \u001b[32m━━━━━━━━━━━━━━━━━━━━\u001b[0m\u001b[37m\u001b[0m \u001b[1m0s\u001b[0m 23ms/step\n",
      "Histochemistry, the study of the chemical composition and distribution of cells, tissues, and organs, has undergone a significant transformation in recent years with the advent of emerging technologies. These technologies have facilitated the development of more sensitive, specific, and efficient histochemical techniques, enabling researchers to gain deeper insights into the biological processes that underlie diseases and other biological phenomena. In this article, we will delve into the intricate ways that histochemistry interacts with emerging technologies.\n",
      "\n",
      "1. Digital Histopathology:\n",
      "\n",
      "One of the most significant emerging technologies that has transformed histochemistry is digital histopathology. Digital histopathology refers to the process of converting histopathological slides into digital images that can be analyzed using computer software. This technology has several advantages, such as the ability to store and access large volumes of data, the ability to share images across different locations, and the ability to perform automated quantitative analysis of histopathological features.\n",
      "\n",
      "Digital histopathology has enabled the development of new histochemical techniques, such as quantitative immunohistochemistry, which allows for the quantification of protein expression in tissue sections. This technique has been used to study a wide range of diseases, such as cancer, neurodegenerative disorders, and infectious diseases.\n",
      "\n",
      "2. Multiplex Histochemistry:\n",
      "\n",
      "Multiplex histochemistry is a technique that allows for the visualization of multiple proteins in a single tissue section. This technology has been made possible by the development of new fluorescent dyes and labeling reagents, which enable the simultaneous detection of multiple proteins.\n",
      "\n",
      "Multiplex histochemistry has several advantages, such as the ability to study complex biological processes, such as cell signaling pathways, in a single experiment, and the ability to reduce the number of tissue sections required for analysis. This technique has been used to study a wide range of diseases, such as cancer, neurodegenerative disorders, and infectious diseases.\n",
      "\n",
      "3. CRISPR-Cas9 Genome Editing:\n",
      "\n",
      "CRISPR-Cas9 is a revolutionary gene editing technology that has the potential to revolutionize histochemistry. CRISPR-Cas9 enables the precise and efficient modification of genes, allowing for the generation of animal models with specific genetic mutations.\n",
      "\n",
      "CRISPR-Cas9 has enabled the development of new histochemical techniques, such as CRISPR-Cas9-mediated labeling of cells and tissues. This technique allows for the labeling of specific cells or tissues with fluorescent proteins, enabling the visualization of cellular processes in real-time.\n",
      "\n",
      "4. Artificial Intelligence and Machine Learning:\n",
      "\n",
      "Artificial intelligence (AI) and machine learning (ML) are emerging technologies that have the potential to transform histochemistry. AI and ML algorithms can be used to analyze large volumes of histopathological data, enabling the identification of patterns and biomarkers that are not readily apparent to the human eye.\n",
      "\n",
      "AI and ML algorithms can also be used to develop new histochemical techniques, such as automated histopathological analysis, which allows for the rapid and accurate quantification of histopathological features. This technology has the potential to significantly reduce the time and cost associated with histopathological analysis, enabling more rapid and accurate diagnosis of diseases.\n",
      "\n",
      "Conclusion:\n",
      "\n",
      "In conclusion, emerging technologies have transformed histochemistry, enabling the development of new and more sophisticated techniques. Digital histopathology, multiplex histochemistry, CRISPR-Cas9 genome editing, and AI and ML are just a few examples of the emerging technologies that are changing the way we study histopathology. These technologies have the potential to significantly advance our understanding of diseases and biological processes, enabling the development of new diagnostic tools and therapies.\n",
      "===========================================================================\n"
     ]
    },
    {
     "name": "stdin",
     "output_type": "stream",
     "text": [
      "You:  Please describe the complex methods of interacting histochemistry with emerging technologies\n"
     ]
    },
    {
     "name": "stdout",
     "output_type": "stream",
     "text": [
      "\u001b[1m1/1\u001b[0m \u001b[32m━━━━━━━━━━━━━━━━━━━━\u001b[0m\u001b[37m\u001b[0m \u001b[1m0s\u001b[0m 50ms/step\n",
      "Television and global economic systems are interconnected in a complex relationship that has evolved over time. Television, as a mass media platform, plays a significant role in shaping cultural values, influencing consumer behavior, and promoting globalization. The following are some ways in which television studies and global economic systems are intertwined:\n",
      "\n",
      "1. Globalization and Cultural Imperialism: Television has become a powerful tool for globalization, as it allows for the dissemination of cultural products and ideas across national borders. However, this process has also been criticized for promoting cultural imperialism, as Western media dominates the global market and imposes its values and ideologies on other cultures.\n",
      "\n",
      "2. Advertising and Consumerism: Television is a major platform for advertising, and the commercialization of television content has contributed to the growth of consumerism. Television programs often promote consumer products, and advertisements are integrated into the viewing experience, blurring the lines between content and commerce.\n",
      "\n",
      "3. Global Trade and Cultural Exchange: Television has facilitated global trade by creating new markets for cultural products and promoting cultural exchange. For example, the export of Indian soap operas, known as \"telenovelas,\" has become a significant revenue source for the Indian media industry, and these programs have gained popularity in other parts of the world.\n",
      "\n",
      "4. Technological Innovation and Economic Development: The development of new technologies, such as streaming services and digital platforms, has disrupted traditional television markets and created new economic opportunities. These innovations have also contributed to the growth of the digital economy and the rise of tech giants like Netflix, Amazon, and Google.\n",
      "\n",
      "5. Political Economy and Regulation: The regulation of television content and markets has become a major political issue, as governments seek to balance the need for economic growth with the protection of cultural values and local industries. This has led to debates over issues such as media ownership, content regulation, and the role of state subsidies in the media industry.\n",
      "\n",
      "In conclusion, the relationship between television studies and global economic systems is complex and multifaceted. While television has contributed to globalization and economic development, it has also been criticized for promoting cultural imperialism and consumerism. The role of television in shaping cultural values and promoting economic growth is an ongoing debate, and it remains a topic of interest for scholars in the fields of media studies, economics, and political science.\n",
      "===========================================================================\n"
     ]
    },
    {
     "name": "stdin",
     "output_type": "stream",
     "text": [
      "You:  Histochemistry \n"
     ]
    },
    {
     "name": "stdout",
     "output_type": "stream",
     "text": [
      "\u001b[1m1/1\u001b[0m \u001b[32m━━━━━━━━━━━━━━━━━━━━\u001b[0m\u001b[37m\u001b[0m \u001b[1m0s\u001b[0m 23ms/step\n",
      "Automata theory, which is a branch of computer science and mathematics, intersects with several other fields, including:\n",
      "\n",
      "1. Computer Science: Automata theory is a fundamental part of computer science, and it has applications in areas such as compilers, parsing, and language processing. It is also used in the design of computer hardware, such as finite state machines and sequential circuits.\n",
      "\n",
      "2. Linguistics: Automata theory is used in linguistics to model the structure of natural languages. It is used to define grammars and to analyze the syntax and semantics of language.\n",
      "\n",
      "3. Cryptography: Automata theory is used in cryptography to design secure encryption and decryption algorithms. It is also used in the analysis of cryptographic protocols and systems.\n",
      "\n",
      "4. Biology: Automata theory is used in biology to model biological systems, such as gene regulatory networks and protein interaction networks. It is also used in the analysis of biological sequences and patterns.\n",
      "\n",
      "5. Mathematics: Automata theory has connections to various branches of mathematics, such as algebra, number theory, and graph theory. It is used in the study of algebraic structures, such as groups and rings, and in the analysis of graph properties, such as connectivity and traversability.\n",
      "\n",
      "6. Philosophy: Automata theory has implications for philosophy, particularly in the areas of artificial intelligence and the nature of consciousness. It is used to model the behavior of intelligent agents and to investigate the relationship between computation and cognition.\n",
      "===========================================================================\n"
     ]
    },
    {
     "name": "stdin",
     "output_type": "stream",
     "text": [
      "You:  What are the implications of Outline of parapsychology for international trade?\n"
     ]
    },
    {
     "name": "stdout",
     "output_type": "stream",
     "text": [
      "\u001b[1m1/1\u001b[0m \u001b[32m━━━━━━━━━━━━━━━━━━━━\u001b[0m\u001b[37m\u001b[0m \u001b[1m0s\u001b[0m 32ms/step\n",
      "The \"Outline of parapsychology\" is a scientific research area that explores phenomena that are not currently explained by mainstream science, such as telepathy, psychokinesis, and near-death experiences. While this field of study is still in its early stages and is not widely accepted by the scientific community, it does not have any immediate implications for international trade. \n",
      "\n",
      "Trade is primarily driven by factors such as supply and demand, production costs, transportation, and tariffs. The study of parapsychology does not directly influence any of these factors. However, there are a few indirect implications that could potentially affect international trade:\n",
      "\n",
      "1. Intellectual property: If parapsychological discoveries lead to new technologies or products, they may be protected by intellectual property laws. This could lead to international trade disputes over patent infringement, especially if the technology is developed in one country and then produced in another.\n",
      "\n",
      "2. Cultural exchange: Parapsychology is a relatively new field, and its development may reflect cultural values and beliefs. As such, the study of parapsychology could lead to increased cultural exchange between countries, as researchers and students travel to learn about different approaches to the subject.\n",
      "\n",
      "3. Research funding: If parapsychological research receives more funding from governments or private organizations, it could lead to increased competition between countries to attract top researchers and facilities. This could potentially lead to a \"brain drain\" as researchers move to countries with more resources, which could have implications for international trade in terms of the flow of talent and expertise.\n",
      "\n",
      "Overall, the implications of parapsychology for international trade are currently minimal, but as the field continues to develop, there may be more direct and indirect effects on global commerce.\n",
      "===========================================================================\n"
     ]
    },
    {
     "name": "stdin",
     "output_type": "stream",
     "text": [
      "You:  How does Phytopathology influence the development of virtual realities?\n"
     ]
    },
    {
     "name": "stdout",
     "output_type": "stream",
     "text": [
      "\u001b[1m1/1\u001b[0m \u001b[32m━━━━━━━━━━━━━━━━━━━━\u001b[0m\u001b[37m\u001b[0m \u001b[1m0s\u001b[0m 28ms/step\n",
      "Phytopathology, the scientific study of plant diseases, does not directly influence the development of virtual realities. While virtual reality technologies can be used to simulate plant diseases and help researchers understand how plant diseases spread, the development of virtual realities is primarily driven by advances in computer graphics, virtual reality hardware, and software engineering. Phytopathology contributes to the development of virtual realities indirectly by providing scientific insights and data that can be used to create more realistic and accurate virtual environments for studying plant diseases. However, the impact of phytopathology on virtual reality development is limited compared to other fields such as computer science, engineering, and psychology.\n",
      "===========================================================================\n"
     ]
    },
    {
     "name": "stdin",
     "output_type": "stream",
     "text": [
      "You:  Delve into the intricate methods Histochemistry interacts with emerging technologies.\n"
     ]
    },
    {
     "name": "stdout",
     "output_type": "stream",
     "text": [
      "\u001b[1m1/1\u001b[0m \u001b[32m━━━━━━━━━━━━━━━━━━━━\u001b[0m\u001b[37m\u001b[0m \u001b[1m0s\u001b[0m 16ms/step\n",
      "Histochemistry, the study of the chemical composition and distribution of cells, tissues, and organs, has undergone a significant transformation in recent years with the advent of emerging technologies. These technologies have facilitated the development of more sensitive, specific, and efficient histochemical techniques, enabling researchers to gain deeper insights into the biological processes that underlie diseases and other biological phenomena. In this article, we will delve into the intricate ways that histochemistry interacts with emerging technologies.\n",
      "\n",
      "1. Digital Histopathology:\n",
      "\n",
      "One of the most significant emerging technologies that has transformed histochemistry is digital histopathology. Digital histopathology refers to the process of converting histopathological slides into digital images that can be analyzed using computer software. This technology has several advantages, such as the ability to store and access large volumes of data, the ability to share images across different locations, and the ability to perform automated quantitative analysis of histopathological features.\n",
      "\n",
      "Digital histopathology has enabled the development of new histochemical techniques, such as quantitative immunohistochemistry, which allows for the quantification of protein expression in tissue sections. This technique has been used to study a wide range of diseases, such as cancer, neurodegenerative disorders, and infectious diseases.\n",
      "\n",
      "2. Multiplex Histochemistry:\n",
      "\n",
      "Multiplex histochemistry is a technique that allows for the visualization of multiple proteins in a single tissue section. This technology has been made possible by the development of new fluorescent dyes and labeling reagents, which enable the simultaneous detection of multiple proteins.\n",
      "\n",
      "Multiplex histochemistry has several advantages, such as the ability to study complex biological processes, such as cell signaling pathways, in a single experiment, and the ability to reduce the number of tissue sections required for analysis. This technique has been used to study a wide range of diseases, such as cancer, neurodegenerative disorders, and infectious diseases.\n",
      "\n",
      "3. CRISPR-Cas9 Genome Editing:\n",
      "\n",
      "CRISPR-Cas9 is a revolutionary gene editing technology that has the potential to revolutionize histochemistry. CRISPR-Cas9 enables the precise and efficient modification of genes, allowing for the generation of animal models with specific genetic mutations.\n",
      "\n",
      "CRISPR-Cas9 has enabled the development of new histochemical techniques, such as CRISPR-Cas9-mediated labeling of cells and tissues. This technique allows for the labeling of specific cells or tissues with fluorescent proteins, enabling the visualization of cellular processes in real-time.\n",
      "\n",
      "4. Artificial Intelligence and Machine Learning:\n",
      "\n",
      "Artificial intelligence (AI) and machine learning (ML) are emerging technologies that have the potential to transform histochemistry. AI and ML algorithms can be used to analyze large volumes of histopathological data, enabling the identification of patterns and biomarkers that are not readily apparent to the human eye.\n",
      "\n",
      "AI and ML algorithms can also be used to develop new histochemical techniques, such as automated histopathological analysis, which allows for the rapid and accurate quantification of histopathological features. This technology has the potential to significantly reduce the time and cost associated with histopathological analysis, enabling more rapid and accurate diagnosis of diseases.\n",
      "\n",
      "Conclusion:\n",
      "\n",
      "In conclusion, emerging technologies have transformed histochemistry, enabling the development of new and more sophisticated techniques. Digital histopathology, multiplex histochemistry, CRISPR-Cas9 genome editing, and AI and ML are just a few examples of the emerging technologies that are changing the way we study histopathology. These technologies have the potential to significantly advance our understanding of diseases and biological processes, enabling the development of new diagnostic tools and therapies.\n",
      "===========================================================================\n"
     ]
    },
    {
     "name": "stdin",
     "output_type": "stream",
     "text": [
      "You:  Delve into the intricate ways Histochemistry interacts with emerging innovations.\n"
     ]
    },
    {
     "name": "stdout",
     "output_type": "stream",
     "text": [
      "\u001b[1m1/1\u001b[0m \u001b[32m━━━━━━━━━━━━━━━━━━━━\u001b[0m\u001b[37m\u001b[0m \u001b[1m0s\u001b[0m 22ms/step\n",
      "Histochemistry, the study of the chemical composition and distribution of cells, tissues, and organs, has undergone a significant transformation in recent years with the advent of emerging technologies. These technologies have facilitated the development of more sensitive, specific, and efficient histochemical techniques, enabling researchers to gain deeper insights into the biological processes that underlie diseases and other biological phenomena. In this article, we will delve into the intricate ways that histochemistry interacts with emerging technologies.\n",
      "\n",
      "1. Digital Histopathology:\n",
      "\n",
      "One of the most significant emerging technologies that has transformed histochemistry is digital histopathology. Digital histopathology refers to the process of converting histopathological slides into digital images that can be analyzed using computer software. This technology has several advantages, such as the ability to store and access large volumes of data, the ability to share images across different locations, and the ability to perform automated quantitative analysis of histopathological features.\n",
      "\n",
      "Digital histopathology has enabled the development of new histochemical techniques, such as quantitative immunohistochemistry, which allows for the quantification of protein expression in tissue sections. This technique has been used to study a wide range of diseases, such as cancer, neurodegenerative disorders, and infectious diseases.\n",
      "\n",
      "2. Multiplex Histochemistry:\n",
      "\n",
      "Multiplex histochemistry is a technique that allows for the visualization of multiple proteins in a single tissue section. This technology has been made possible by the development of new fluorescent dyes and labeling reagents, which enable the simultaneous detection of multiple proteins.\n",
      "\n",
      "Multiplex histochemistry has several advantages, such as the ability to study complex biological processes, such as cell signaling pathways, in a single experiment, and the ability to reduce the number of tissue sections required for analysis. This technique has been used to study a wide range of diseases, such as cancer, neurodegenerative disorders, and infectious diseases.\n",
      "\n",
      "3. CRISPR-Cas9 Genome Editing:\n",
      "\n",
      "CRISPR-Cas9 is a revolutionary gene editing technology that has the potential to revolutionize histochemistry. CRISPR-Cas9 enables the precise and efficient modification of genes, allowing for the generation of animal models with specific genetic mutations.\n",
      "\n",
      "CRISPR-Cas9 has enabled the development of new histochemical techniques, such as CRISPR-Cas9-mediated labeling of cells and tissues. This technique allows for the labeling of specific cells or tissues with fluorescent proteins, enabling the visualization of cellular processes in real-time.\n",
      "\n",
      "4. Artificial Intelligence and Machine Learning:\n",
      "\n",
      "Artificial intelligence (AI) and machine learning (ML) are emerging technologies that have the potential to transform histochemistry. AI and ML algorithms can be used to analyze large volumes of histopathological data, enabling the identification of patterns and biomarkers that are not readily apparent to the human eye.\n",
      "\n",
      "AI and ML algorithms can also be used to develop new histochemical techniques, such as automated histopathological analysis, which allows for the rapid and accurate quantification of histopathological features. This technology has the potential to significantly reduce the time and cost associated with histopathological analysis, enabling more rapid and accurate diagnosis of diseases.\n",
      "\n",
      "Conclusion:\n",
      "\n",
      "In conclusion, emerging technologies have transformed histochemistry, enabling the development of new and more sophisticated techniques. Digital histopathology, multiplex histochemistry, CRISPR-Cas9 genome editing, and AI and ML are just a few examples of the emerging technologies that are changing the way we study histopathology. These technologies have the potential to significantly advance our understanding of diseases and biological processes, enabling the development of new diagnostic tools and therapies.\n",
      "===========================================================================\n"
     ]
    },
    {
     "name": "stdin",
     "output_type": "stream",
     "text": [
      "You:  Delve into the intricate methods Histochemistry interacts with emerging innovation.\n"
     ]
    },
    {
     "name": "stdout",
     "output_type": "stream",
     "text": [
      "\u001b[1m1/1\u001b[0m \u001b[32m━━━━━━━━━━━━━━━━━━━━\u001b[0m\u001b[37m\u001b[0m \u001b[1m0s\u001b[0m 27ms/step\n",
      "Histochemistry, the study of the chemical composition and distribution of cells, tissues, and organs, has undergone a significant transformation in recent years with the advent of emerging technologies. These technologies have facilitated the development of more sensitive, specific, and efficient histochemical techniques, enabling researchers to gain deeper insights into the biological processes that underlie diseases and other biological phenomena. In this article, we will delve into the intricate ways that histochemistry interacts with emerging technologies.\n",
      "\n",
      "1. Digital Histopathology:\n",
      "\n",
      "One of the most significant emerging technologies that has transformed histochemistry is digital histopathology. Digital histopathology refers to the process of converting histopathological slides into digital images that can be analyzed using computer software. This technology has several advantages, such as the ability to store and access large volumes of data, the ability to share images across different locations, and the ability to perform automated quantitative analysis of histopathological features.\n",
      "\n",
      "Digital histopathology has enabled the development of new histochemical techniques, such as quantitative immunohistochemistry, which allows for the quantification of protein expression in tissue sections. This technique has been used to study a wide range of diseases, such as cancer, neurodegenerative disorders, and infectious diseases.\n",
      "\n",
      "2. Multiplex Histochemistry:\n",
      "\n",
      "Multiplex histochemistry is a technique that allows for the visualization of multiple proteins in a single tissue section. This technology has been made possible by the development of new fluorescent dyes and labeling reagents, which enable the simultaneous detection of multiple proteins.\n",
      "\n",
      "Multiplex histochemistry has several advantages, such as the ability to study complex biological processes, such as cell signaling pathways, in a single experiment, and the ability to reduce the number of tissue sections required for analysis. This technique has been used to study a wide range of diseases, such as cancer, neurodegenerative disorders, and infectious diseases.\n",
      "\n",
      "3. CRISPR-Cas9 Genome Editing:\n",
      "\n",
      "CRISPR-Cas9 is a revolutionary gene editing technology that has the potential to revolutionize histochemistry. CRISPR-Cas9 enables the precise and efficient modification of genes, allowing for the generation of animal models with specific genetic mutations.\n",
      "\n",
      "CRISPR-Cas9 has enabled the development of new histochemical techniques, such as CRISPR-Cas9-mediated labeling of cells and tissues. This technique allows for the labeling of specific cells or tissues with fluorescent proteins, enabling the visualization of cellular processes in real-time.\n",
      "\n",
      "4. Artificial Intelligence and Machine Learning:\n",
      "\n",
      "Artificial intelligence (AI) and machine learning (ML) are emerging technologies that have the potential to transform histochemistry. AI and ML algorithms can be used to analyze large volumes of histopathological data, enabling the identification of patterns and biomarkers that are not readily apparent to the human eye.\n",
      "\n",
      "AI and ML algorithms can also be used to develop new histochemical techniques, such as automated histopathological analysis, which allows for the rapid and accurate quantification of histopathological features. This technology has the potential to significantly reduce the time and cost associated with histopathological analysis, enabling more rapid and accurate diagnosis of diseases.\n",
      "\n",
      "Conclusion:\n",
      "\n",
      "In conclusion, emerging technologies have transformed histochemistry, enabling the development of new and more sophisticated techniques. Digital histopathology, multiplex histochemistry, CRISPR-Cas9 genome editing, and AI and ML are just a few examples of the emerging technologies that are changing the way we study histopathology. These technologies have the potential to significantly advance our understanding of diseases and biological processes, enabling the development of new diagnostic tools and therapies.\n",
      "===========================================================================\n"
     ]
    },
    {
     "name": "stdin",
     "output_type": "stream",
     "text": [
      "You:  finish\n"
     ]
    }
   ],
   "source": [
    "while True:\n",
    "    text = input('You: ')\n",
    "    if text == 'finish':\n",
    "        break\n",
    "    else:\n",
    "        text_seq = tokenizer.texts_to_sequences([text])[0]\n",
    "        pad_text = pad_sequences([text_seq], maxlen = maxlen, padding = 'post')\n",
    "        print(resp[np.argmax(model.predict(pad_text))])\n",
    "        print('===========================================================================')"
   ]
  },
  {
   "cell_type": "code",
   "execution_count": 110,
   "id": "209540b7-8872-4cea-802a-88f4e855a630",
   "metadata": {},
   "outputs": [
    {
     "data": {
      "image/png": "[encoded data removed]",
      "text/plain": [
       "<Figure size 700x500 with 1 Axes>"
      ]
     },
     "metadata": {},
     "output_type": "display_data"
    }
   ],
   "source": [
    "plt.figure(figsize = (7, 5))\n",
    "plt.plot(history.history['accuracy'], color = 'teal')\n",
    "plt.title('Training Accuracy', fontsize = 15)\n",
    "plt.xlabel('Epochs', fontsize = 10)\n",
    "plt.ylabel('Accuracy', fontsize = 10)\n",
    "plt.show()"
   ]
  },
  {
   "cell_type": "code",
   "execution_count": 111,
   "id": "4c6dbade-be9a-452f-8c8f-f6e11b95bec1",
   "metadata": {},
   "outputs": [
    {
     "data": {
      "image/png": "[encoded data removed]",
      "text/plain": [
       "<Figure size 700x500 with 1 Axes>"
      ]
     },
     "metadata": {},
     "output_type": "display_data"
    }
   ],
   "source": [
    "plt.figure(figsize = (7, 5))\n",
    "plt.plot(history.history['loss'], color = 'orange')\n",
    "plt.title('Training Loss', fontsize = 15)\n",
    "plt.xlabel('Epochs', fontsize = 10)\n",
    "plt.ylabel('Loss', fontsize = 10)\n",
    "plt.show()"
   ]
  },
  {
   "cell_type": "code",
   "execution_count": 115,
   "id": "4c8fafec-6e49-4a85-a1d5-35f00c66629a",
   "metadata": {},
   "outputs": [
    {
     "data": {
      "text/plain": [
       "[1.0,\n",
       " 0.9979883506578163,\n",
       " 0.9978754901561289,\n",
       " 0.9974775083870203,\n",
       " 0.9967525875646023,\n",
       " 0.9939652301742412,\n",
       " 0.9799360758118442,\n",
       " 0.9455252058486451,\n",
       " 0.9002010223735847,\n",
       " 0.8546058548939461]"
      ]
     },
     "execution_count": 115,
     "metadata": {},
     "output_type": "execute_result"
    }
   ],
   "source": [
    "loss_max = max(history.history['loss'])\n",
    "loss_history = [i / loss_max for i in history.history['loss']]\n",
    "loss_history[: 10]"
   ]
  },
  {
   "cell_type": "code",
   "execution_count": 117,
   "id": "cabf0495-721b-44a1-a1a5-05302376e435",
   "metadata": {},
   "outputs": [
    {
     "data": {
      "image/png": "[encoded data removed]",
      "text/plain": [
       "<Figure size 700x500 with 1 Axes>"
      ]
     },
     "metadata": {},
     "output_type": "display_data"
    }
   ],
   "source": [
    "plt.figure(figsize = (7, 5))\n",
    "plt.plot(history.history['accuracy'], label = 'Training Accuracy', color = 'teal')\n",
    "plt.plot(loss_history, label = 'Training Loss', color = 'orange')\n",
    "plt.title('Training Accuracy & Training Loss', fontsize = 15)\n",
    "plt.xlabel('Epochs', fontsize = 10)\n",
    "plt.legend()\n",
    "plt.show()"
   ]
  }
 ],
 "metadata": {
  "kernelspec": {
   "display_name": "Python 3 (ipykernel)",
   "language": "python",
   "name": "python3"
  },
  "language_info": {
   "codemirror_mode": {
    "name": "ipython",
    "version": 3
   },
   "file_extension": ".py",
   "mimetype": "text/x-python",
   "name": "python",
   "nbconvert_exporter": "python",
   "pygments_lexer": "ipython3",
   "version": "3.9.13"
  }
 },
 "nbformat": 4,
 "nbformat_minor": 5
}
